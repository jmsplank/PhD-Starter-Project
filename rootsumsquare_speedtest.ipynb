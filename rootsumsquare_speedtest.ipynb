{
 "metadata": {
  "language_info": {
   "codemirror_mode": {
    "name": "ipython",
    "version": 3
   },
   "file_extension": ".py",
   "mimetype": "text/x-python",
   "name": "python",
   "nbconvert_exporter": "python",
   "pygments_lexer": "ipython3",
   "version": "3.8.2-final"
  },
  "orig_nbformat": 2,
  "kernelspec": {
   "name": "Python 3.8.2 64-bit ('env': venv)",
   "display_name": "Python 3.8.2 64-bit ('env': venv)",
   "metadata": {
    "interpreter": {
     "hash": "a16f2f1755416b504c4eb5575779cbb1c9b72855eb95b0b283cbe38c8745c8c5"
    }
   }
  }
 },
 "nbformat": 4,
 "nbformat_minor": 2,
 "cells": [
  {
   "cell_type": "code",
   "execution_count": 1,
   "metadata": {},
   "outputs": [],
   "source": [
    "import numpy as np # Using Numpy functions\n",
    "\n",
    "import functools # For timing decorator\n",
    "import time\n",
    "\n",
    "from typing import Callable, Tuple # Py3.8 type hints"
   ]
  },
  {
   "cell_type": "code",
   "execution_count": 2,
   "metadata": {},
   "outputs": [
    {
     "output_type": "execute_result",
     "data": {
      "text/plain": "array([[61.13728195, 69.18745048, 54.88712317],\n       [65.87910921, 28.81345076, 98.17994997],\n       [73.62183883, 15.98124766, 50.68841608],\n       ...,\n       [58.1146232 , 37.86288826, 90.78003775],\n       [54.26021097, 25.82608218,  4.63050161],\n       [13.25944118, 29.12721574,  8.56601449]])"
     },
     "metadata": {},
     "execution_count": 2
    }
   ],
   "source": [
    "arr = np.random.rand(10000,3)*100\n",
    "arr \n",
    "# Has shape (10e3, 3)\n",
    "# Contains values [0,100)"
   ]
  },
  {
   "cell_type": "code",
   "execution_count": 3,
   "metadata": {},
   "outputs": [],
   "source": [
    "def timer(func: Callable) -> Tuple[Callable, float]:\n",
    "    \"\"\"Time the execution of a function.\n",
    "    \"\"\"\n",
    "    @functools.wraps(func)\n",
    "    def wrapper_timer(*args, **kwargs):\n",
    "        tic = time.perf_counter()\n",
    "        value = func(*args, **kwargs)\n",
    "        toc = time.perf_counter()\n",
    "        elapsed = toc-tic\n",
    "        return value, elapsed\n",
    "    return wrapper_timer"
   ]
  },
  {
   "cell_type": "code",
   "execution_count": 4,
   "metadata": {},
   "outputs": [],
   "source": [
    "@timer\n",
    "def longWay(a: np.ndarray) -> np.ndarray:\n",
    "    \"\"\"Calculates the root sum of the squares.\n",
    "    Uses a longer method involving sqrt, sum and power.\n",
    "    \"\"\"\n",
    "    return np.sqrt(np.sum(np.power(a, 2), axis=1))\n",
    "\n",
    "@timer\n",
    "def shortWay(a: np.ndarray) -> np.ndarray:\n",
    "    \"\"\"Calculates the root sum of the squares.\n",
    "    Calls numpy.linalg.norm() to calculate.\n",
    "    \"\"\"\n",
    "    return np.linalg.norm(a, axis=1)\n"
   ]
  },
  {
   "cell_type": "code",
   "execution_count": 5,
   "metadata": {
    "tags": []
   },
   "outputs": [
    {
     "output_type": "execute_result",
     "data": {
      "text/plain": "(array([107.41166993, 121.6945954 ,  90.8013819 , ..., 114.24501298,\n         60.27104247,  33.12980654]),\n 0.0014043209957890213)"
     },
     "metadata": {},
     "execution_count": 5
    }
   ],
   "source": [
    "longWay(arr) # shape [[10000],1]"
   ]
  },
  {
   "cell_type": "code",
   "execution_count": 6,
   "metadata": {
    "tags": []
   },
   "outputs": [
    {
     "output_type": "execute_result",
     "data": {
      "text/plain": "(array([107.41166993, 121.6945954 ,  90.8013819 , ..., 114.24501298,\n         60.27104247,  33.12980654]),\n 0.0004620629988494329)"
     },
     "metadata": {},
     "execution_count": 6
    }
   ],
   "source": [
    "shortWay(arr) # shape [[10000], 1]"
   ]
  },
  {
   "cell_type": "code",
   "execution_count": 7,
   "metadata": {
    "tags": []
   },
   "outputs": [
    {
     "output_type": "stream",
     "name": "stdout",
     "text": "Over n=10000 samples, with shape (10000, 3)\n\nAverage time to compute:\nnp.sqrt(np.sum(np.power(arr, 2), axis=1))   :   657 microseconds\n                                    sigma   :   100.355\n\nnp.linalg.norm(arr, axis=1)                 :   178 microseconds\n                                    sigma   :   18.306\n\nA difference of                             :   27.13%\n"
    }
   ],
   "source": [
    "mean_long = []\n",
    "mean_short = []\n",
    "samples = 10000\n",
    "for i in range(samples):\n",
    "    arr = np.random.rand(10000,3)*100 # Generate dummy arrays\n",
    "    mean_long.append(longWay(arr)[1]) # Calculate 'long' times\n",
    "    mean_short.append(shortWay(arr)[1]) # Calculate 'short' times\n",
    "long_time = np.mean(mean_long)\n",
    "short_time = np.mean(mean_short)\n",
    "\n",
    "# Return Stats\n",
    "print(f\"\"\"Over n={samples} samples, with shape (10000, 3)\\n\n",
    "Average time to compute:\n",
    "np.sqrt(np.sum(np.power(arr, 2), axis=1))   :   {long_time*1e6:0.0f} microseconds\n",
    "                                    sigma   :   {np.std(np.array(mean_long)*1e6):0.3f}\\n\n",
    "np.linalg.norm(arr, axis=1)                 :   {short_time*1e6:0.0f} microseconds\n",
    "                                    sigma   :   {np.std(np.array(mean_short)*1e6):0.3f}\\n\n",
    "A difference of                             :   {short_time*100./long_time:0.2f}%\"\"\")"
   ]
  }
 ]
}