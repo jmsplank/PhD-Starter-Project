{
 "metadata": {
  "language_info": {
   "codemirror_mode": {
    "name": "ipython",
    "version": 3
   },
   "file_extension": ".py",
   "mimetype": "text/x-python",
   "name": "python",
   "nbconvert_exporter": "python",
   "pygments_lexer": "ipython3",
   "version": "3.8.5-final"
  },
  "orig_nbformat": 2,
  "kernelspec": {
   "name": "python3",
   "display_name": "Python 3",
   "language": "python"
  }
 },
 "nbformat": 4,
 "nbformat_minor": 2,
 "cells": [
  {
   "cell_type": "code",
   "execution_count": 2,
   "metadata": {},
   "outputs": [],
   "source": [
    "import numpy as np\n",
    "import matplotlib.pyplot as plt"
   ]
  },
  {
   "cell_type": "code",
   "execution_count": 11,
   "metadata": {},
   "outputs": [
    {
     "output_type": "stream",
     "name": "stdout",
     "text": [
      "2228\n197773\n"
     ]
    }
   ],
   "source": [
    "data = np.random.random((200000, 3))\n",
    "dt = 0.0001220703125\n",
    "\n",
    "N = int(np.floor((2 * np.pi / (dt * 231*1e3)) * (1.0 / 1e-4)))\n",
    "Hann = np.hanning(N)\n",
    "N_windows = 1 + data.shape[0] - N\n",
    "\n",
    "print(N)\n",
    "print(N_windows)\n",
    "\n",
    "\n"
   ]
  },
  {
   "cell_type": "code",
   "execution_count": null,
   "metadata": {},
   "outputs": [],
   "source": [
    "for i in range(10):\n",
    "    for j in range(3):\n",
    "        ft = np.fft.fft(Hann * data[i:i+N, j])\n"
   ]
  }
 ]
}