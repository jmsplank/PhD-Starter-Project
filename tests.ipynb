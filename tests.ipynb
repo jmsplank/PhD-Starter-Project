{
 "metadata": {
  "language_info": {
   "codemirror_mode": {
    "name": "ipython",
    "version": 3
   },
   "file_extension": ".py",
   "mimetype": "text/x-python",
   "name": "python",
   "nbconvert_exporter": "python",
   "pygments_lexer": "ipython3",
   "version": "3.8.2-final"
  },
  "orig_nbformat": 2,
  "kernelspec": {
   "name": "Python 3.8.2 64-bit ('env': venv)",
   "display_name": "Python 3.8.2 64-bit ('env': venv)",
   "metadata": {
    "interpreter": {
     "hash": "a16f2f1755416b504c4eb5575779cbb1c9b72855eb95b0b283cbe38c8745c8c5"
    }
   }
  }
 },
 "nbformat": 4,
 "nbformat_minor": 2,
 "cells": [
  {
   "cell_type": "code",
   "execution_count": 1,
   "metadata": {},
   "outputs": [],
   "source": [
    "import pyspedas\n",
    "from pytplot import tplot"
   ]
  },
  {
   "cell_type": "code",
   "execution_count": 7,
   "metadata": {
    "tags": []
   },
   "outputs": [
    {
     "output_type": "stream",
     "name": "stderr",
     "text": "30-Sep-20 11:29:32: Loading /home/janmes/Documents/PhD/PhD-Starter-Project/mms_data/mms1/fpi/brst/l2/des-moms/2017/01/26/mms1_fpi_brst_l2_des-moms_20170126081303_v3.3.0.cdf\n30-Sep-20 11:29:32: Loading /home/janmes/Documents/PhD/PhD-Starter-Project/mms_data/mms1/fpi/brst/l2/dis-moms/2017/01/26/mms1_fpi_brst_l2_dis-moms_20170126081303_v3.3.0.cdf\nLoaded variables:\nmms1_des_errorflags_brst\nmms1_des_compressionloss_brst\nmms1_des_startdelphi_count_brst\nmms1_des_startdelphi_angle_brst\nmms1_des_sector_despinp_brst\nmms1_des_pitchangdist_lowen_brst\nmms1_des_pitchangdist_miden_brst\nmms1_des_pitchangdist_highen_brst\nmms1_des_energyspectr_px_brst\nmms1_des_energyspectr_mx_brst\nmms1_des_energyspectr_py_brst\nmms1_des_energyspectr_my_brst\nmms1_des_energyspectr_pz_brst\nmms1_des_energyspectr_mz_brst\nmms1_des_energyspectr_par_brst\nmms1_des_energyspectr_anti_brst\nmms1_des_energyspectr_perp_brst\nmms1_des_energyspectr_omni_brst\nmms1_des_numberdensity_brst\nmms1_des_densityextrapolation_low_brst\nmms1_des_densityextrapolation_high_brst\nmms1_des_bulkv_dbcs_brst\nmms1_des_bulkv_spintone_dbcs_brst\nmms1_des_bulkv_gse_brst\nmms1_des_bulkv_spintone_gse_brst\nmms1_des_prestensor_dbcs_brst\nmms1_des_prestensor_gse_brst\nmms1_des_temptensor_dbcs_brst\nmms1_des_temptensor_gse_brst\nmms1_des_heatq_dbcs_brst\nmms1_des_heatq_gse_brst\nmms1_des_temppara_brst\nmms1_des_tempperp_brst\nmms1_dis_errorflags_brst\nmms1_dis_compressionloss_brst\nmms1_dis_startdelphi_count_brst\nmms1_dis_startdelphi_angle_brst\nmms1_dis_sector_despinp_brst\nmms1_dis_energyspectr_px_brst\nmms1_dis_energyspectr_mx_brst\nmms1_dis_energyspectr_py_brst\nmms1_dis_energyspectr_my_brst\nmms1_dis_energyspectr_pz_brst\nmms1_dis_energyspectr_mz_brst\nmms1_dis_energyspectr_omni_brst\nmms1_dis_spectr_bg_brst\nmms1_dis_numberdensity_bg_brst\nmms1_dis_numberdensity_brst\nmms1_dis_densityextrapolation_low_brst\nmms1_dis_densityextrapolation_high_brst\nmms1_dis_bulkv_dbcs_brst\nmms1_dis_bulkv_spintone_dbcs_brst\nmms1_dis_bulkv_gse_brst\nmms1_dis_bulkv_spintone_gse_brst\nmms1_dis_prestensor_dbcs_brst\nmms1_dis_prestensor_gse_brst\nmms1_dis_pres_bg_brst\nmms1_dis_temptensor_dbcs_brst\nmms1_dis_temptensor_gse_brst\nmms1_dis_heatq_dbcs_brst\nmms1_dis_heatq_gse_brst\nmms1_dis_temppara_brst\nmms1_dis_tempperp_brst\n30-Sep-20 11:29:35: Downloading mms1_fgm_brst_l2_20170126081303_v5.87.0.cdf to /home/janmes/Documents/PhD/PhD-Starter-Project/mms_data/mms1/fgm/brst/l2/2017/01/26\nLoaded variables:\nmms1_fgm_b_gse_brst_l2\nmms1_fgm_b_gsm_brst_l2\nmms1_fgm_b_dmpa_brst_l2\nmms1_fgm_b_bcs_brst_l2\nmms1_fgm_flag_brst_l2\nmms1_fgm_r_gse_brst_l2\nmms1_fgm_r_gsm_brst_l2\nmms1_fgm_hirange_brst_l2\nmms1_fgm_bdeltahalf_brst_l2\nmms1_fgm_stemp_brst_l2\nmms1_fgm_etemp_brst_l2\nmms1_fgm_mode_brst_l2\nmms1_fgm_rdeltahalf_brst_l2\n"
    }
   ],
   "source": [
    "mms_fgm = pyspedas.mms.fpi(trange=['2017-01-26/08:13:04', '2017-01-26/08:17:04'], probe='1', data_rate='brst')\n",
    "mms_fgm = pyspedas.mms.fgm(trange=['2017-01-26/08:13:04', '2017-01-26/08:17:04'], probe='1', data_rate='brst')"
   ]
  },
  {
   "cell_type": "code",
   "execution_count": 8,
   "metadata": {
    "tags": []
   },
   "outputs": [
    {
     "output_type": "stream",
     "name": "stderr",
     "text": "30-Sep-20 11:29:44: /home/janmes/Documents/PhD/PhD-Starter-Project/env/lib/python3.8/site-packages/ipykernel/ipkernel.py:287: DeprecationWarning: `should_run_async` will not call `transform_cell` automatically in the future. Please pass the result to `transformed_cell` argument and any exception that happen during thetransform in `preprocessing_exc_tuple` in IPython 7.17 and above.\n  and should_run_async(code)\n\n"
    }
   ],
   "source": [
    "from pytplot import store_data\n",
    "store_data('mms1_des_tempparaperp_brst', data=['mms1_des_temppara_brst', 'mms1_des_tempperp_brst'])\n",
    "store_data('mms1_dis_tempparaperp_brst', data=['mms1_dis_temppara_brst', 'mms1_dis_tempperp_brst'])\n",
    "\n",
    "tplot(['mms1_fgm_b_gse_brst_l2','mms1_des_bulkv_gse_brst', 'mms1_des_numberdensity_brst', 'mms1_des_tempparaperp_brst', 'mms1_dis_tempparaperp_brst', 'mms1_dis_energyspectr_omni_brst', 'mms1_des_energyspectr_omni_brst'])"
   ]
  },
  {
   "cell_type": "code",
   "execution_count": 9,
   "metadata": {
    "tags": []
   },
   "outputs": [
    {
     "output_type": "stream",
     "name": "stderr",
     "text": "30-Sep-20 11:36:41: /home/janmes/Documents/PhD/PhD-Starter-Project/env/lib/python3.8/site-packages/ipykernel/ipkernel.py:287: DeprecationWarning: `should_run_async` will not call `transform_cell` automatically in the future. Please pass the result to `transformed_cell` argument and any exception that happen during thetransform in `preprocessing_exc_tuple` in IPython 7.17 and above.\n  and should_run_async(code)\n\n"
    }
   ],
   "source": [
    "tplot('mms1_fgm_b_gse_brst_l2')"
   ]
  },
  {
   "cell_type": "code",
   "execution_count": 18,
   "metadata": {
    "tags": []
   },
   "outputs": [
    {
     "output_type": "execute_result",
     "data": {
      "text/plain": "<xarray.DataArray 'mms1_fgm_b_gse_brst_l2' (time: 31872, v_dim: 4)>\narray([[ 0.6730632 ,  0.67499435,  7.565788  ,  7.6256    ],\n       [ 0.6988267 ,  0.70879847,  7.5809016 ,  7.645968  ],\n       [ 0.70086867,  0.747079  ,  7.6168427 ,  7.685417  ],\n       ...,\n       [-7.5073147 ,  3.1807914 , -0.7831017 ,  8.190876  ],\n       [-7.5040283 ,  3.1544054 , -0.77861845,  8.177222  ],\n       [-7.4950423 ,  3.1393707 , -0.7792656 ,  8.163245  ]],\n      dtype=float32)\nCoordinates:\n  * time     (time) float64 1.485e+09 1.485e+09 ... 1.485e+09 1.485e+09\nDimensions without coordinates: v_dim\nAttributes:\n    plot_options:  {'xaxis_opt': {'axis_label': 'Time', 'crosshair': 'X', 'x_...",
      "text/html": "<div><svg style=\"position: absolute; width: 0; height: 0; overflow: hidden\">\n<defs>\n<symbol id=\"icon-database\" viewBox=\"0 0 32 32\">\n<path d=\"M16 0c-8.837 0-16 2.239-16 5v4c0 2.761 7.163 5 16 5s16-2.239 16-5v-4c0-2.761-7.163-5-16-5z\"></path>\n<path d=\"M16 17c-8.837 0-16-2.239-16-5v6c0 2.761 7.163 5 16 5s16-2.239 16-5v-6c0 2.761-7.163 5-16 5z\"></path>\n<path d=\"M16 26c-8.837 0-16-2.239-16-5v6c0 2.761 7.163 5 16 5s16-2.239 16-5v-6c0 2.761-7.163 5-16 5z\"></path>\n</symbol>\n<symbol id=\"icon-file-text2\" viewBox=\"0 0 32 32\">\n<path d=\"M28.681 7.159c-0.694-0.947-1.662-2.053-2.724-3.116s-2.169-2.030-3.116-2.724c-1.612-1.182-2.393-1.319-2.841-1.319h-15.5c-1.378 0-2.5 1.121-2.5 2.5v27c0 1.378 1.122 2.5 2.5 2.5h23c1.378 0 2.5-1.122 2.5-2.5v-19.5c0-0.448-0.137-1.23-1.319-2.841zM24.543 5.457c0.959 0.959 1.712 1.825 2.268 2.543h-4.811v-4.811c0.718 0.556 1.584 1.309 2.543 2.268zM28 29.5c0 0.271-0.229 0.5-0.5 0.5h-23c-0.271 0-0.5-0.229-0.5-0.5v-27c0-0.271 0.229-0.5 0.5-0.5 0 0 15.499-0 15.5 0v7c0 0.552 0.448 1 1 1h7v19.5z\"></path>\n<path d=\"M23 26h-14c-0.552 0-1-0.448-1-1s0.448-1 1-1h14c0.552 0 1 0.448 1 1s-0.448 1-1 1z\"></path>\n<path d=\"M23 22h-14c-0.552 0-1-0.448-1-1s0.448-1 1-1h14c0.552 0 1 0.448 1 1s-0.448 1-1 1z\"></path>\n<path d=\"M23 18h-14c-0.552 0-1-0.448-1-1s0.448-1 1-1h14c0.552 0 1 0.448 1 1s-0.448 1-1 1z\"></path>\n</symbol>\n</defs>\n</svg>\n<style>/* CSS stylesheet for displaying xarray objects in jupyterlab.\n *\n */\n\n:root {\n  --xr-font-color0: var(--jp-content-font-color0, rgba(0, 0, 0, 1));\n  --xr-font-color2: var(--jp-content-font-color2, rgba(0, 0, 0, 0.54));\n  --xr-font-color3: var(--jp-content-font-color3, rgba(0, 0, 0, 0.38));\n  --xr-border-color: var(--jp-border-color2, #e0e0e0);\n  --xr-disabled-color: var(--jp-layout-color3, #bdbdbd);\n  --xr-background-color: var(--jp-layout-color0, white);\n  --xr-background-color-row-even: var(--jp-layout-color1, white);\n  --xr-background-color-row-odd: var(--jp-layout-color2, #eeeeee);\n}\n\nhtml[theme=dark],\nbody.vscode-dark {\n  --xr-font-color0: rgba(255, 255, 255, 1);\n  --xr-font-color2: rgba(255, 255, 255, 0.54);\n  --xr-font-color3: rgba(255, 255, 255, 0.38);\n  --xr-border-color: #1F1F1F;\n  --xr-disabled-color: #515151;\n  --xr-background-color: #111111;\n  --xr-background-color-row-even: #111111;\n  --xr-background-color-row-odd: #313131;\n}\n\n.xr-wrap {\n  display: block;\n  min-width: 300px;\n  max-width: 700px;\n}\n\n.xr-text-repr-fallback {\n  /* fallback to plain text repr when CSS is not injected (untrusted notebook) */\n  display: none;\n}\n\n.xr-header {\n  padding-top: 6px;\n  padding-bottom: 6px;\n  margin-bottom: 4px;\n  border-bottom: solid 1px var(--xr-border-color);\n}\n\n.xr-header > div,\n.xr-header > ul {\n  display: inline;\n  margin-top: 0;\n  margin-bottom: 0;\n}\n\n.xr-obj-type,\n.xr-array-name {\n  margin-left: 2px;\n  margin-right: 10px;\n}\n\n.xr-obj-type {\n  color: var(--xr-font-color2);\n}\n\n.xr-sections {\n  padding-left: 0 !important;\n  display: grid;\n  grid-template-columns: 150px auto auto 1fr 20px 20px;\n}\n\n.xr-section-item {\n  display: contents;\n}\n\n.xr-section-item input {\n  display: none;\n}\n\n.xr-section-item input + label {\n  color: var(--xr-disabled-color);\n}\n\n.xr-section-item input:enabled + label {\n  cursor: pointer;\n  color: var(--xr-font-color2);\n}\n\n.xr-section-item input:enabled + label:hover {\n  color: var(--xr-font-color0);\n}\n\n.xr-section-summary {\n  grid-column: 1;\n  color: var(--xr-font-color2);\n  font-weight: 500;\n}\n\n.xr-section-summary > span {\n  display: inline-block;\n  padding-left: 0.5em;\n}\n\n.xr-section-summary-in:disabled + label {\n  color: var(--xr-font-color2);\n}\n\n.xr-section-summary-in + label:before {\n  display: inline-block;\n  content: '►';\n  font-size: 11px;\n  width: 15px;\n  text-align: center;\n}\n\n.xr-section-summary-in:disabled + label:before {\n  color: var(--xr-disabled-color);\n}\n\n.xr-section-summary-in:checked + label:before {\n  content: '▼';\n}\n\n.xr-section-summary-in:checked + label > span {\n  display: none;\n}\n\n.xr-section-summary,\n.xr-section-inline-details {\n  padding-top: 4px;\n  padding-bottom: 4px;\n}\n\n.xr-section-inline-details {\n  grid-column: 2 / -1;\n}\n\n.xr-section-details {\n  display: none;\n  grid-column: 1 / -1;\n  margin-bottom: 5px;\n}\n\n.xr-section-summary-in:checked ~ .xr-section-details {\n  display: contents;\n}\n\n.xr-array-wrap {\n  grid-column: 1 / -1;\n  display: grid;\n  grid-template-columns: 20px auto;\n}\n\n.xr-array-wrap > label {\n  grid-column: 1;\n  vertical-align: top;\n}\n\n.xr-preview {\n  color: var(--xr-font-color3);\n}\n\n.xr-array-preview,\n.xr-array-data {\n  padding: 0 5px !important;\n  grid-column: 2;\n}\n\n.xr-array-data,\n.xr-array-in:checked ~ .xr-array-preview {\n  display: none;\n}\n\n.xr-array-in:checked ~ .xr-array-data,\n.xr-array-preview {\n  display: inline-block;\n}\n\n.xr-dim-list {\n  display: inline-block !important;\n  list-style: none;\n  padding: 0 !important;\n  margin: 0;\n}\n\n.xr-dim-list li {\n  display: inline-block;\n  padding: 0;\n  margin: 0;\n}\n\n.xr-dim-list:before {\n  content: '(';\n}\n\n.xr-dim-list:after {\n  content: ')';\n}\n\n.xr-dim-list li:not(:last-child):after {\n  content: ',';\n  padding-right: 5px;\n}\n\n.xr-has-index {\n  font-weight: bold;\n}\n\n.xr-var-list,\n.xr-var-item {\n  display: contents;\n}\n\n.xr-var-item > div,\n.xr-var-item label,\n.xr-var-item > .xr-var-name span {\n  background-color: var(--xr-background-color-row-even);\n  margin-bottom: 0;\n}\n\n.xr-var-item > .xr-var-name:hover span {\n  padding-right: 5px;\n}\n\n.xr-var-list > li:nth-child(odd) > div,\n.xr-var-list > li:nth-child(odd) > label,\n.xr-var-list > li:nth-child(odd) > .xr-var-name span {\n  background-color: var(--xr-background-color-row-odd);\n}\n\n.xr-var-name {\n  grid-column: 1;\n}\n\n.xr-var-dims {\n  grid-column: 2;\n}\n\n.xr-var-dtype {\n  grid-column: 3;\n  text-align: right;\n  color: var(--xr-font-color2);\n}\n\n.xr-var-preview {\n  grid-column: 4;\n}\n\n.xr-var-name,\n.xr-var-dims,\n.xr-var-dtype,\n.xr-preview,\n.xr-attrs dt {\n  white-space: nowrap;\n  overflow: hidden;\n  text-overflow: ellipsis;\n  padding-right: 10px;\n}\n\n.xr-var-name:hover,\n.xr-var-dims:hover,\n.xr-var-dtype:hover,\n.xr-attrs dt:hover {\n  overflow: visible;\n  width: auto;\n  z-index: 1;\n}\n\n.xr-var-attrs,\n.xr-var-data {\n  display: none;\n  background-color: var(--xr-background-color) !important;\n  padding-bottom: 5px !important;\n}\n\n.xr-var-attrs-in:checked ~ .xr-var-attrs,\n.xr-var-data-in:checked ~ .xr-var-data {\n  display: block;\n}\n\n.xr-var-data > table {\n  float: right;\n}\n\n.xr-var-name span,\n.xr-var-data,\n.xr-attrs {\n  padding-left: 25px !important;\n}\n\n.xr-attrs,\n.xr-var-attrs,\n.xr-var-data {\n  grid-column: 1 / -1;\n}\n\ndl.xr-attrs {\n  padding: 0;\n  margin: 0;\n  display: grid;\n  grid-template-columns: 125px auto;\n}\n\n.xr-attrs dt, dd {\n  padding: 0;\n  margin: 0;\n  float: left;\n  padding-right: 10px;\n  width: auto;\n}\n\n.xr-attrs dt {\n  font-weight: normal;\n  grid-column: 1;\n}\n\n.xr-attrs dt:hover span {\n  display: inline-block;\n  background: var(--xr-background-color);\n  padding-right: 10px;\n}\n\n.xr-attrs dd {\n  grid-column: 2;\n  white-space: pre-wrap;\n  word-break: break-all;\n}\n\n.xr-icon-database,\n.xr-icon-file-text2 {\n  display: inline-block;\n  vertical-align: middle;\n  width: 1em;\n  height: 1.5em !important;\n  stroke-width: 0;\n  stroke: currentColor;\n  fill: currentColor;\n}\n</style><pre class='xr-text-repr-fallback'>&lt;xarray.DataArray &#x27;mms1_fgm_b_gse_brst_l2&#x27; (time: 31872, v_dim: 4)&gt;\narray([[ 0.6730632 ,  0.67499435,  7.565788  ,  7.6256    ],\n       [ 0.6988267 ,  0.70879847,  7.5809016 ,  7.645968  ],\n       [ 0.70086867,  0.747079  ,  7.6168427 ,  7.685417  ],\n       ...,\n       [-7.5073147 ,  3.1807914 , -0.7831017 ,  8.190876  ],\n       [-7.5040283 ,  3.1544054 , -0.77861845,  8.177222  ],\n       [-7.4950423 ,  3.1393707 , -0.7792656 ,  8.163245  ]],\n      dtype=float32)\nCoordinates:\n  * time     (time) float64 1.485e+09 1.485e+09 ... 1.485e+09 1.485e+09\nDimensions without coordinates: v_dim\nAttributes:\n    plot_options:  {&#x27;xaxis_opt&#x27;: {&#x27;axis_label&#x27;: &#x27;Time&#x27;, &#x27;crosshair&#x27;: &#x27;X&#x27;, &#x27;x_...</pre><div class='xr-wrap' hidden><div class='xr-header'><div class='xr-obj-type'>xarray.DataArray</div><div class='xr-array-name'>'mms1_fgm_b_gse_brst_l2'</div><ul class='xr-dim-list'><li><span class='xr-has-index'>time</span>: 31872</li><li><span>v_dim</span>: 4</li></ul></div><ul class='xr-sections'><li class='xr-section-item'><div class='xr-array-wrap'><input id='section-156f92ae-02a9-4e07-965a-ac69590f169c' class='xr-array-in' type='checkbox' checked><label for='section-156f92ae-02a9-4e07-965a-ac69590f169c' title='Show/hide data repr'><svg class='icon xr-icon-database'><use xlink:href='#icon-database'></use></svg></label><div class='xr-array-preview xr-preview'><span>0.6730632 0.67499435 7.565788 7.6256 ... 3.1393707 -0.7792656 8.163245</span></div><div class='xr-array-data'><pre>array([[ 0.6730632 ,  0.67499435,  7.565788  ,  7.6256    ],\n       [ 0.6988267 ,  0.70879847,  7.5809016 ,  7.645968  ],\n       [ 0.70086867,  0.747079  ,  7.6168427 ,  7.685417  ],\n       ...,\n       [-7.5073147 ,  3.1807914 , -0.7831017 ,  8.190876  ],\n       [-7.5040283 ,  3.1544054 , -0.77861845,  8.177222  ],\n       [-7.4950423 ,  3.1393707 , -0.7792656 ,  8.163245  ]],\n      dtype=float32)</pre></div></div></li><li class='xr-section-item'><input id='section-446ebffe-0eef-4f9b-b700-de78669784b5' class='xr-section-summary-in' type='checkbox'  checked><label for='section-446ebffe-0eef-4f9b-b700-de78669784b5' class='xr-section-summary' >Coordinates: <span>(1)</span></label><div class='xr-section-inline-details'></div><div class='xr-section-details'><ul class='xr-var-list'><li class='xr-var-item'><div class='xr-var-name'><span class='xr-has-index'>time</span></div><div class='xr-var-dims'>(time)</div><div class='xr-var-dtype'>float64</div><div class='xr-var-preview xr-preview'>1.485e+09 1.485e+09 ... 1.485e+09</div><input id='attrs-8e87215a-2066-4ebe-9381-2a51ebe574d1' class='xr-var-attrs-in' type='checkbox' disabled><label for='attrs-8e87215a-2066-4ebe-9381-2a51ebe574d1' title='Show/Hide attributes'><svg class='icon xr-icon-file-text2'><use xlink:href='#icon-file-text2'></use></svg></label><input id='data-7da65705-88c0-4e86-85fd-cd1c6c2e875c' class='xr-var-data-in' type='checkbox'><label for='data-7da65705-88c0-4e86-85fd-cd1c6c2e875c' title='Show/Hide data repr'><svg class='icon xr-icon-database'><use xlink:href='#icon-database'></use></svg></label><div class='xr-var-attrs'><dl class='xr-attrs'></dl></div><div class='xr-var-data'><pre>array([1.485418e+09, 1.485418e+09, 1.485418e+09, ..., 1.485419e+09,\n       1.485419e+09, 1.485419e+09])</pre></div></li></ul></div></li><li class='xr-section-item'><input id='section-99687ed8-d700-4698-b7cd-63e622e75b7c' class='xr-section-summary-in' type='checkbox'  checked><label for='section-99687ed8-d700-4698-b7cd-63e622e75b7c' class='xr-section-summary' >Attributes: <span>(1)</span></label><div class='xr-section-inline-details'></div><div class='xr-section-details'><dl class='xr-attrs'><dt><span>plot_options :</span></dt><dd>{&#x27;xaxis_opt&#x27;: {&#x27;axis_label&#x27;: &#x27;Time&#x27;, &#x27;crosshair&#x27;: &#x27;X&#x27;, &#x27;x_axis_type&#x27;: &#x27;linear&#x27;}, &#x27;yaxis_opt&#x27;: {&#x27;axis_label&#x27;: &#x27;MMS1 FGM&#x27;, &#x27;crosshair&#x27;: &#x27;Y&#x27;, &#x27;y_axis_type&#x27;: &#x27;linear&#x27;, &#x27;y_range&#x27;: [-52.25563, 61.624817], &#x27;legend_names&#x27;: [&#x27;Bx GSE&#x27;, &#x27;By GSE&#x27;, &#x27;Bz GSE&#x27;, &#x27;B total&#x27;]}, &#x27;zaxis_opt&#x27;: {&#x27;axis_label&#x27;: &#x27;Z-Axis&#x27;, &#x27;crosshair&#x27;: &#x27;Z&#x27;, &#x27;z_axis_type&#x27;: &#x27;linear&#x27;}, &#x27;line_opt&#x27;: {}, &#x27;trange&#x27;: [1485418383.153373, 1485418632.149159], &#x27;time_bar&#x27;: [], &#x27;extras&#x27;: {&#x27;panel_size&#x27;: 1, &#x27;char_size&#x27;: 10, &#x27;line_color&#x27;: [&#x27;b&#x27;, &#x27;g&#x27;, &#x27;r&#x27;, &#x27;#000000&#x27;]}, &#x27;create_time&#x27;: datetime.datetime(2020, 9, 30, 11, 29, 37, 429498), &#x27;links&#x27;: {}, &#x27;spec_bins_ascending&#x27;: None, &#x27;overplots&#x27;: [], &#x27;interactive_xaxis_opt&#x27;: {}, &#x27;interactive_yaxis_opt&#x27;: {}}</dd></dl></div></li></ul></div></div>"
     },
     "metadata": {},
     "execution_count": 18
    }
   ],
   "source": [
    "pytplot.data_quants['mms1_fgm_b_gse_brst_l2']"
   ]
  },
  {
   "cell_type": "code",
   "execution_count": 14,
   "metadata": {
    "tags": []
   },
   "outputs": [
    {
     "output_type": "stream",
     "name": "stderr",
     "text": "30-Sep-20 11:38:51: /home/janmes/Documents/PhD/PhD-Starter-Project/env/lib/python3.8/site-packages/ipykernel/ipkernel.py:287: DeprecationWarning: `should_run_async` will not call `transform_cell` automatically in the future. Please pass the result to `transformed_cell` argument and any exception that happen during thetransform in `preprocessing_exc_tuple` in IPython 7.17 and above.\n  and should_run_async(code)\n\n"
    },
    {
     "output_type": "execute_result",
     "data": {
      "text/plain": "array([[ 0.6730632 ,  0.67499435,  7.565788  ,  7.6256    ],\n       [ 0.6988267 ,  0.70879847,  7.5809016 ,  7.645968  ],\n       [ 0.70086867,  0.747079  ,  7.6168427 ,  7.685417  ],\n       ...,\n       [-7.5073147 ,  3.1807914 , -0.7831017 ,  8.190876  ],\n       [-7.5040283 ,  3.1544054 , -0.77861845,  8.177222  ],\n       [-7.4950423 ,  3.1393707 , -0.7792656 ,  8.163245  ]],\n      dtype=float32)"
     },
     "metadata": {},
     "execution_count": 14
    }
   ],
   "source": [
    "pytplot.data_quants['mms1_fgm_b_gse_brst_l2'].values"
   ]
  },
  {
   "cell_type": "code",
   "execution_count": 28,
   "metadata": {
    "tags": []
   },
   "outputs": [
    {
     "output_type": "execute_result",
     "data": {
      "text/plain": "array([7.6256   , 7.645968 , 7.685417 , 7.688025 , 7.705061 , 7.741749 ,\n       7.759007 , 7.7591395, 7.763428 , 7.784916 ], dtype=float32)"
     },
     "metadata": {},
     "execution_count": 28
    }
   ],
   "source": [
    "import numpy as np\n",
    "pytplot.data_quants['mms1_fgm_b_gse_brst_l2'].values[:,3][:10]"
   ]
  },
  {
   "cell_type": "code",
   "execution_count": 31,
   "metadata": {
    "tags": []
   },
   "outputs": [
    {
     "output_type": "stream",
     "name": "stderr",
     "text": "30-Sep-20 11:44:14: /home/janmes/Documents/PhD/PhD-Starter-Project/env/lib/python3.8/site-packages/ipykernel/ipkernel.py:287: DeprecationWarning: `should_run_async` will not call `transform_cell` automatically in the future. Please pass the result to `transformed_cell` argument and any exception that happen during thetransform in `preprocessing_exc_tuple` in IPython 7.17 and above.\n  and should_run_async(code)\n\n"
    },
    {
     "output_type": "execute_result",
     "data": {
      "text/plain": "(3, 10, 10, 10)"
     },
     "metadata": {},
     "execution_count": 31
    }
   ],
   "source": [
    "np.shape(np.meshgrid(np.arange(0, 10), np.arange(10, 20), np.arange(20, 30)))"
   ]
  },
  {
   "cell_type": "code",
   "execution_count": 37,
   "metadata": {
    "tags": []
   },
   "outputs": [
    {
     "output_type": "execute_result",
     "data": {
      "text/plain": "<xarray.DataArray 'mms1_fgm_r_gse_brst_l2' (time: 12, v_dim: 4)>\narray([[ 69671.4  , -23911.662,  11126.933,  74496.17 ],\n       [ 69665.73 , -23879.963,  11134.154,  74481.77 ],\n       [ 69659.96 , -23848.303,  11141.365,  74467.32 ],\n       [ 69654.15 , -23816.594,  11148.567,  74452.81 ],\n       [ 69648.28 , -23784.863,  11155.76 ,  74438.25 ],\n       [ 69642.336, -23753.145,  11162.942,  74423.64 ],\n       [ 69636.34 , -23721.367,  11170.115,  74408.98 ],\n       [ 69630.3  , -23689.57 ,  11177.278,  74394.26 ],\n       [ 69624.2  , -23657.729,  11184.432,  74379.49 ],\n       [ 69618.01 , -23625.959,  11191.575,  74364.67 ],\n       [ 69611.77 , -23594.102,  11198.71 ,  74349.8  ],\n       [ 69605.48 , -23562.26 ,  11205.834,  74334.87 ]], dtype=float32)\nCoordinates:\n  * time     (time) float64 1.485e+09 1.485e+09 ... 1.485e+09 1.485e+09\nDimensions without coordinates: v_dim\nAttributes:\n    CDF:           {'VATT': {'CATDESC': 'Definitive Position in GSE coordinat...\n    plot_options:  {'xaxis_opt': {'axis_label': 'Time', 'crosshair': 'X', 'x_...",
      "text/html": "<div><svg style=\"position: absolute; width: 0; height: 0; overflow: hidden\">\n<defs>\n<symbol id=\"icon-database\" viewBox=\"0 0 32 32\">\n<path d=\"M16 0c-8.837 0-16 2.239-16 5v4c0 2.761 7.163 5 16 5s16-2.239 16-5v-4c0-2.761-7.163-5-16-5z\"></path>\n<path d=\"M16 17c-8.837 0-16-2.239-16-5v6c0 2.761 7.163 5 16 5s16-2.239 16-5v-6c0 2.761-7.163 5-16 5z\"></path>\n<path d=\"M16 26c-8.837 0-16-2.239-16-5v6c0 2.761 7.163 5 16 5s16-2.239 16-5v-6c0 2.761-7.163 5-16 5z\"></path>\n</symbol>\n<symbol id=\"icon-file-text2\" viewBox=\"0 0 32 32\">\n<path d=\"M28.681 7.159c-0.694-0.947-1.662-2.053-2.724-3.116s-2.169-2.030-3.116-2.724c-1.612-1.182-2.393-1.319-2.841-1.319h-15.5c-1.378 0-2.5 1.121-2.5 2.5v27c0 1.378 1.122 2.5 2.5 2.5h23c1.378 0 2.5-1.122 2.5-2.5v-19.5c0-0.448-0.137-1.23-1.319-2.841zM24.543 5.457c0.959 0.959 1.712 1.825 2.268 2.543h-4.811v-4.811c0.718 0.556 1.584 1.309 2.543 2.268zM28 29.5c0 0.271-0.229 0.5-0.5 0.5h-23c-0.271 0-0.5-0.229-0.5-0.5v-27c0-0.271 0.229-0.5 0.5-0.5 0 0 15.499-0 15.5 0v7c0 0.552 0.448 1 1 1h7v19.5z\"></path>\n<path d=\"M23 26h-14c-0.552 0-1-0.448-1-1s0.448-1 1-1h14c0.552 0 1 0.448 1 1s-0.448 1-1 1z\"></path>\n<path d=\"M23 22h-14c-0.552 0-1-0.448-1-1s0.448-1 1-1h14c0.552 0 1 0.448 1 1s-0.448 1-1 1z\"></path>\n<path d=\"M23 18h-14c-0.552 0-1-0.448-1-1s0.448-1 1-1h14c0.552 0 1 0.448 1 1s-0.448 1-1 1z\"></path>\n</symbol>\n</defs>\n</svg>\n<style>/* CSS stylesheet for displaying xarray objects in jupyterlab.\n *\n */\n\n:root {\n  --xr-font-color0: var(--jp-content-font-color0, rgba(0, 0, 0, 1));\n  --xr-font-color2: var(--jp-content-font-color2, rgba(0, 0, 0, 0.54));\n  --xr-font-color3: var(--jp-content-font-color3, rgba(0, 0, 0, 0.38));\n  --xr-border-color: var(--jp-border-color2, #e0e0e0);\n  --xr-disabled-color: var(--jp-layout-color3, #bdbdbd);\n  --xr-background-color: var(--jp-layout-color0, white);\n  --xr-background-color-row-even: var(--jp-layout-color1, white);\n  --xr-background-color-row-odd: var(--jp-layout-color2, #eeeeee);\n}\n\nhtml[theme=dark],\nbody.vscode-dark {\n  --xr-font-color0: rgba(255, 255, 255, 1);\n  --xr-font-color2: rgba(255, 255, 255, 0.54);\n  --xr-font-color3: rgba(255, 255, 255, 0.38);\n  --xr-border-color: #1F1F1F;\n  --xr-disabled-color: #515151;\n  --xr-background-color: #111111;\n  --xr-background-color-row-even: #111111;\n  --xr-background-color-row-odd: #313131;\n}\n\n.xr-wrap {\n  display: block;\n  min-width: 300px;\n  max-width: 700px;\n}\n\n.xr-text-repr-fallback {\n  /* fallback to plain text repr when CSS is not injected (untrusted notebook) */\n  display: none;\n}\n\n.xr-header {\n  padding-top: 6px;\n  padding-bottom: 6px;\n  margin-bottom: 4px;\n  border-bottom: solid 1px var(--xr-border-color);\n}\n\n.xr-header > div,\n.xr-header > ul {\n  display: inline;\n  margin-top: 0;\n  margin-bottom: 0;\n}\n\n.xr-obj-type,\n.xr-array-name {\n  margin-left: 2px;\n  margin-right: 10px;\n}\n\n.xr-obj-type {\n  color: var(--xr-font-color2);\n}\n\n.xr-sections {\n  padding-left: 0 !important;\n  display: grid;\n  grid-template-columns: 150px auto auto 1fr 20px 20px;\n}\n\n.xr-section-item {\n  display: contents;\n}\n\n.xr-section-item input {\n  display: none;\n}\n\n.xr-section-item input + label {\n  color: var(--xr-disabled-color);\n}\n\n.xr-section-item input:enabled + label {\n  cursor: pointer;\n  color: var(--xr-font-color2);\n}\n\n.xr-section-item input:enabled + label:hover {\n  color: var(--xr-font-color0);\n}\n\n.xr-section-summary {\n  grid-column: 1;\n  color: var(--xr-font-color2);\n  font-weight: 500;\n}\n\n.xr-section-summary > span {\n  display: inline-block;\n  padding-left: 0.5em;\n}\n\n.xr-section-summary-in:disabled + label {\n  color: var(--xr-font-color2);\n}\n\n.xr-section-summary-in + label:before {\n  display: inline-block;\n  content: '►';\n  font-size: 11px;\n  width: 15px;\n  text-align: center;\n}\n\n.xr-section-summary-in:disabled + label:before {\n  color: var(--xr-disabled-color);\n}\n\n.xr-section-summary-in:checked + label:before {\n  content: '▼';\n}\n\n.xr-section-summary-in:checked + label > span {\n  display: none;\n}\n\n.xr-section-summary,\n.xr-section-inline-details {\n  padding-top: 4px;\n  padding-bottom: 4px;\n}\n\n.xr-section-inline-details {\n  grid-column: 2 / -1;\n}\n\n.xr-section-details {\n  display: none;\n  grid-column: 1 / -1;\n  margin-bottom: 5px;\n}\n\n.xr-section-summary-in:checked ~ .xr-section-details {\n  display: contents;\n}\n\n.xr-array-wrap {\n  grid-column: 1 / -1;\n  display: grid;\n  grid-template-columns: 20px auto;\n}\n\n.xr-array-wrap > label {\n  grid-column: 1;\n  vertical-align: top;\n}\n\n.xr-preview {\n  color: var(--xr-font-color3);\n}\n\n.xr-array-preview,\n.xr-array-data {\n  padding: 0 5px !important;\n  grid-column: 2;\n}\n\n.xr-array-data,\n.xr-array-in:checked ~ .xr-array-preview {\n  display: none;\n}\n\n.xr-array-in:checked ~ .xr-array-data,\n.xr-array-preview {\n  display: inline-block;\n}\n\n.xr-dim-list {\n  display: inline-block !important;\n  list-style: none;\n  padding: 0 !important;\n  margin: 0;\n}\n\n.xr-dim-list li {\n  display: inline-block;\n  padding: 0;\n  margin: 0;\n}\n\n.xr-dim-list:before {\n  content: '(';\n}\n\n.xr-dim-list:after {\n  content: ')';\n}\n\n.xr-dim-list li:not(:last-child):after {\n  content: ',';\n  padding-right: 5px;\n}\n\n.xr-has-index {\n  font-weight: bold;\n}\n\n.xr-var-list,\n.xr-var-item {\n  display: contents;\n}\n\n.xr-var-item > div,\n.xr-var-item label,\n.xr-var-item > .xr-var-name span {\n  background-color: var(--xr-background-color-row-even);\n  margin-bottom: 0;\n}\n\n.xr-var-item > .xr-var-name:hover span {\n  padding-right: 5px;\n}\n\n.xr-var-list > li:nth-child(odd) > div,\n.xr-var-list > li:nth-child(odd) > label,\n.xr-var-list > li:nth-child(odd) > .xr-var-name span {\n  background-color: var(--xr-background-color-row-odd);\n}\n\n.xr-var-name {\n  grid-column: 1;\n}\n\n.xr-var-dims {\n  grid-column: 2;\n}\n\n.xr-var-dtype {\n  grid-column: 3;\n  text-align: right;\n  color: var(--xr-font-color2);\n}\n\n.xr-var-preview {\n  grid-column: 4;\n}\n\n.xr-var-name,\n.xr-var-dims,\n.xr-var-dtype,\n.xr-preview,\n.xr-attrs dt {\n  white-space: nowrap;\n  overflow: hidden;\n  text-overflow: ellipsis;\n  padding-right: 10px;\n}\n\n.xr-var-name:hover,\n.xr-var-dims:hover,\n.xr-var-dtype:hover,\n.xr-attrs dt:hover {\n  overflow: visible;\n  width: auto;\n  z-index: 1;\n}\n\n.xr-var-attrs,\n.xr-var-data {\n  display: none;\n  background-color: var(--xr-background-color) !important;\n  padding-bottom: 5px !important;\n}\n\n.xr-var-attrs-in:checked ~ .xr-var-attrs,\n.xr-var-data-in:checked ~ .xr-var-data {\n  display: block;\n}\n\n.xr-var-data > table {\n  float: right;\n}\n\n.xr-var-name span,\n.xr-var-data,\n.xr-attrs {\n  padding-left: 25px !important;\n}\n\n.xr-attrs,\n.xr-var-attrs,\n.xr-var-data {\n  grid-column: 1 / -1;\n}\n\ndl.xr-attrs {\n  padding: 0;\n  margin: 0;\n  display: grid;\n  grid-template-columns: 125px auto;\n}\n\n.xr-attrs dt, dd {\n  padding: 0;\n  margin: 0;\n  float: left;\n  padding-right: 10px;\n  width: auto;\n}\n\n.xr-attrs dt {\n  font-weight: normal;\n  grid-column: 1;\n}\n\n.xr-attrs dt:hover span {\n  display: inline-block;\n  background: var(--xr-background-color);\n  padding-right: 10px;\n}\n\n.xr-attrs dd {\n  grid-column: 2;\n  white-space: pre-wrap;\n  word-break: break-all;\n}\n\n.xr-icon-database,\n.xr-icon-file-text2 {\n  display: inline-block;\n  vertical-align: middle;\n  width: 1em;\n  height: 1.5em !important;\n  stroke-width: 0;\n  stroke: currentColor;\n  fill: currentColor;\n}\n</style><pre class='xr-text-repr-fallback'>&lt;xarray.DataArray &#x27;mms1_fgm_r_gse_brst_l2&#x27; (time: 12, v_dim: 4)&gt;\narray([[ 69671.4  , -23911.662,  11126.933,  74496.17 ],\n       [ 69665.73 , -23879.963,  11134.154,  74481.77 ],\n       [ 69659.96 , -23848.303,  11141.365,  74467.32 ],\n       [ 69654.15 , -23816.594,  11148.567,  74452.81 ],\n       [ 69648.28 , -23784.863,  11155.76 ,  74438.25 ],\n       [ 69642.336, -23753.145,  11162.942,  74423.64 ],\n       [ 69636.34 , -23721.367,  11170.115,  74408.98 ],\n       [ 69630.3  , -23689.57 ,  11177.278,  74394.26 ],\n       [ 69624.2  , -23657.729,  11184.432,  74379.49 ],\n       [ 69618.01 , -23625.959,  11191.575,  74364.67 ],\n       [ 69611.77 , -23594.102,  11198.71 ,  74349.8  ],\n       [ 69605.48 , -23562.26 ,  11205.834,  74334.87 ]], dtype=float32)\nCoordinates:\n  * time     (time) float64 1.485e+09 1.485e+09 ... 1.485e+09 1.485e+09\nDimensions without coordinates: v_dim\nAttributes:\n    CDF:           {&#x27;VATT&#x27;: {&#x27;CATDESC&#x27;: &#x27;Definitive Position in GSE coordinat...\n    plot_options:  {&#x27;xaxis_opt&#x27;: {&#x27;axis_label&#x27;: &#x27;Time&#x27;, &#x27;crosshair&#x27;: &#x27;X&#x27;, &#x27;x_...</pre><div class='xr-wrap' hidden><div class='xr-header'><div class='xr-obj-type'>xarray.DataArray</div><div class='xr-array-name'>'mms1_fgm_r_gse_brst_l2'</div><ul class='xr-dim-list'><li><span class='xr-has-index'>time</span>: 12</li><li><span>v_dim</span>: 4</li></ul></div><ul class='xr-sections'><li class='xr-section-item'><div class='xr-array-wrap'><input id='section-b4a02783-4c81-466a-b558-b8c1e7fd62f4' class='xr-array-in' type='checkbox' checked><label for='section-b4a02783-4c81-466a-b558-b8c1e7fd62f4' title='Show/hide data repr'><svg class='icon xr-icon-database'><use xlink:href='#icon-database'></use></svg></label><div class='xr-array-preview xr-preview'><span>69671.4 -23911.662 11126.933 74496.17 ... -23562.26 11205.834 74334.87</span></div><div class='xr-array-data'><pre>array([[ 69671.4  , -23911.662,  11126.933,  74496.17 ],\n       [ 69665.73 , -23879.963,  11134.154,  74481.77 ],\n       [ 69659.96 , -23848.303,  11141.365,  74467.32 ],\n       [ 69654.15 , -23816.594,  11148.567,  74452.81 ],\n       [ 69648.28 , -23784.863,  11155.76 ,  74438.25 ],\n       [ 69642.336, -23753.145,  11162.942,  74423.64 ],\n       [ 69636.34 , -23721.367,  11170.115,  74408.98 ],\n       [ 69630.3  , -23689.57 ,  11177.278,  74394.26 ],\n       [ 69624.2  , -23657.729,  11184.432,  74379.49 ],\n       [ 69618.01 , -23625.959,  11191.575,  74364.67 ],\n       [ 69611.77 , -23594.102,  11198.71 ,  74349.8  ],\n       [ 69605.48 , -23562.26 ,  11205.834,  74334.87 ]], dtype=float32)</pre></div></div></li><li class='xr-section-item'><input id='section-eac97272-ffc7-4970-8d36-434cefd28d8a' class='xr-section-summary-in' type='checkbox'  checked><label for='section-eac97272-ffc7-4970-8d36-434cefd28d8a' class='xr-section-summary' >Coordinates: <span>(1)</span></label><div class='xr-section-inline-details'></div><div class='xr-section-details'><ul class='xr-var-list'><li class='xr-var-item'><div class='xr-var-name'><span class='xr-has-index'>time</span></div><div class='xr-var-dims'>(time)</div><div class='xr-var-dtype'>float64</div><div class='xr-var-preview xr-preview'>1.485e+09 1.485e+09 ... 1.485e+09</div><input id='attrs-bc805c1b-a6d4-403e-8cc4-f1e6cae24522' class='xr-var-attrs-in' type='checkbox' disabled><label for='attrs-bc805c1b-a6d4-403e-8cc4-f1e6cae24522' title='Show/Hide attributes'><svg class='icon xr-icon-file-text2'><use xlink:href='#icon-file-text2'></use></svg></label><input id='data-b4bcd994-8ad5-454a-a4a3-4eb4ff362776' class='xr-var-data-in' type='checkbox'><label for='data-b4bcd994-8ad5-454a-a4a3-4eb4ff362776' title='Show/Hide data repr'><svg class='icon xr-icon-database'><use xlink:href='#icon-database'></use></svg></label><div class='xr-var-attrs'><dl class='xr-attrs'></dl></div><div class='xr-var-data'><pre>array([1.485418e+09, 1.485418e+09, 1.485418e+09, 1.485418e+09, 1.485418e+09,\n       1.485418e+09, 1.485419e+09, 1.485419e+09, 1.485419e+09, 1.485419e+09,\n       1.485419e+09, 1.485419e+09])</pre></div></li></ul></div></li><li class='xr-section-item'><input id='section-2c00b423-44ac-4fae-b773-7430f7965cae' class='xr-section-summary-in' type='checkbox'  checked><label for='section-2c00b423-44ac-4fae-b773-7430f7965cae' class='xr-section-summary' >Attributes: <span>(2)</span></label><div class='xr-section-inline-details'></div><div class='xr-section-details'><dl class='xr-attrs'><dt><span>CDF :</span></dt><dd>{&#x27;VATT&#x27;: {&#x27;CATDESC&#x27;: &#x27;Definitive Position in GSE coordinates, 30 second&#x27;, &#x27;DEPEND_0&#x27;: &#x27;Epoch_state&#x27;, &#x27;DISPLAY_TYPE&#x27;: &#x27;time_series&#x27;, &#x27;FIELDNAM&#x27;: &#x27;mms1_fgm_r_gse_brst_l2&#x27;, &#x27;FILLVAL&#x27;: array([-1.e+31], dtype=float32), &#x27;FORMAT&#x27;: &#x27;E12.2&#x27;, &#x27;LABL_PTR_1&#x27;: &#x27;label_r_gse&#x27;, &#x27;UNITS&#x27;: &#x27;km&#x27;, &#x27;VALIDMIN&#x27;: array([-1000000.], dtype=float32), &#x27;VALIDMAX&#x27;: array([1000000.], dtype=float32), &#x27;VAR_TYPE&#x27;: &#x27;data&#x27;, &#x27;SCALETYP&#x27;: &#x27;linear&#x27;, &#x27;COORDINATE_SYSTEM&#x27;: &#x27;GSE&#x27;, &#x27;SI_CONVERSION&#x27;: &#x27;1.0e3&gt;m&#x27;, &#x27;TENSOR_ORDER&#x27;: array([1], dtype=int32), &#x27;REPRESENTATION_1&#x27;: &#x27;represent_vec_tot&#x27;}, &#x27;GATT&#x27;: {&#x27;Project&#x27;: &#x27;STP&gt;Solar-Terrestrial Physics&#x27;, &#x27;Source_name&#x27;: &#x27;MMS1&gt;MMS Satellite Number 1&#x27;, &#x27;Discipline&#x27;: &#x27;Space Physics&gt;Magnetospheric Science&#x27;, &#x27;Data_type&#x27;: &#x27;brst_l2&#x27;, &#x27;Descriptor&#x27;: &#x27;FGM&gt;Flux Gate Magnetometer&#x27;, &#x27;File_naming_convention&#x27;: &#x27;source_descriptor_datatype_yyyyMMddHHmmss&#x27;, &#x27;Data_version&#x27;: &#x27;5.87.0&#x27;, &#x27;PI_name&#x27;: &#x27;J. Burch, C. Russell, W. Magnus&#x27;, &#x27;PI_affiliation&#x27;: &#x27;SWRI, UCLA, IWF&#x27;, &#x27;TEXT&#x27;: [&#x27;The Fluxgate Magnetometers (FGM) on Magnetospheric Multiscale consist of a traditional Analog Fluxgate Magnetometer (AFG), and a Digital Fluxgate magnetometer (DFG). The dual magnetometers are operated as a single instrument providing a single intercalibrated data product. Range changes occur at different times on the two instruments so the gains checked each periapsis can be carried out unambiguously to apoapsis. Cross correlation of calibration parameters can separate causes of the any apparent calibration changes. Use of Electron Drift Instrument (EDI) to determine the field along the rotation axis allows accurate monitoring of the zero levels along the rotation axis.  Prior to launch the magnetometers were calibrated at the Technical University, Braunschweig, except for the AFG magnetometers on MMS3 and MMS4, which were calibrated at UCLA.  Both sets of sensors are operated for the entire MMS orbit, with slow survey (8 samples per second) outside of the Region of Interest (ROI), and fast survey (16 samples per second) inside the ROI. Within the ROI burst mode data (128 samples per second) are also acquired.  A detailed description of the MMS fluxgate magnetometers, including science objectives, instrument description, calibration, magnetic cleanliness program, and data flow can be found at http://link.springer.com/article/10.1007%2Fs11214-014-0057-3 (DOI 10.1007/s11214-014-0057-3).Additional information can also be found at http://www-spc.igpp.ucla.edu/ssc/mms (UCLA),and http://www.iwf.oeaw.ac.at (IWF, Graz).&#x27;, &#x27;For the purpose of creating a unified FGM Level2 data product, burst mode data is taken from DFG and survey mode data is taken from AFG.  Because AFG and DFG are cross-calibrated on an orbit-averaged basis, small differences in offset may be observed between Level2 burst and survey mode data.  Consequently, any differences are within the error of the measurement. Based on preliminary analysis of the data, the absolute error within the Region of Interest (ROI) is estimated to be no more than 0.1 nT in the spin-plane, 0.15 nT along the spin-axis and 0.2 nT in total magnitude.&#x27;], &#x27;Instrument_type&#x27;: &#x27;Magnetic Fields (space)&#x27;, &#x27;Mission_group&#x27;: &#x27;MMS&#x27;, &#x27;Logical_source&#x27;: &#x27;mms1_fgm_brst_l2&#x27;, &#x27;Logical_file_id&#x27;: &#x27;mms1_fgm_brst_l2_20170126081303_v5.87.0&#x27;, &#x27;Logical_source_description&#x27;: &#x27;Level2 Flux Gate Magnetometer Burst DC Magnetic Field for MMS Satellite Number 1&#x27;, &#x27;Time_resolution&#x27;: &#x27;0.0078125 sec&#x27;, &#x27;Rules_of_use&#x27;: &#x27;See MMS Data Rights and Rules for Use https://lasp.colorado.edu/galaxy/display/mms/MMS+Data+Rights+and+Rules+for+Data+Use&#x27;, &#x27;Generated_by&#x27;: &#x27;UCLA&#x27;, &#x27;Generation_date&#x27;: &#x27;20170618&#x27;, &#x27;MODS&#x27;: &quot;version X=5:  * Y-version number comes from cal file entries. \\n              * Ensures there are 2 ephemeris points before/after data to enable proper spline.  \\n              * Fix to depend_0 of rdeltahalf:  fixes bug when reading position data.\\n              * L-vector for DMPA2GSE transformation is smoothed with a gaussian filter, instead \\n                of using a single average value for the day.  This short-term filter avoids  \\n                introduding artificial jumps at 00:00 UTC and removes 7-minute &#x27;wobble&#x27; after  \\n                maneuvers in the GSE result.   \\n              * Fixes error with DEFATT file selection found when choosing the \\n                daily DEFATT files to be used in Phase 2.\\n              * Fixed bug where reference Etemp was used for high range gain.  Now uses measured Etemp.\\nversion X=4:  First version for public release of L2.\\n              Renamed variables to conform with new MMS variable name guidelines \\n              (obs_instr_paramName[_coordSys]_mode_level):  \\n                Mag field parameters include &#x27;b&#x27; for paramName.  \\n                Use &#x27;r&#x27; instead of &#x27;pos&#x27; for S/C position paramName.  \\n                Eliminated &#x27;rate&#x27;, replaced with &#x27;bdeltahalf&#x27;.  Added &#x27;rdeltahalf&#x27;.\\n                l1a_mode is now just &#x27;mode&#x27;.\\nversion X=3:  fixed removal of overlap between modes.\\n              fixed a bug that caused stemp and etemp to be empty.\\nversion X=2:  flag parameter name corrected: was &#x27;status&#x27;\\n                        added bits 4, 5, 6 to flag saturation on B1, B2, and B3, respectively\\n                        added bit 7 to flag bad data at range changes\\n              Added etemp and l1a_mode parameters.  \\n              rate, hirange, and stemp parameters now comply with MMS CDF Guidlelines, e.g.\\n              FILLVAL now defined for stemp and etemp, and is set to !values.f_nan\\n              No longer use Var_Parents attribute in stemp -- see Parents instead\\n              In this version, temperature-corrected gains are applied.  Reference temperatures are used when \\n              stemp or etemp are set to FILLVAL. \\n              Non-linearity correction is applied to high rage DFG data.\\nversion X=1:  added &#x27;flag&#x27;, rate and hirange parameters (but &#x27;flag&#x27; is actually called &#x27;status&#x27;)&quot;, &#x27;LINK_TEXT&#x27;: [&#x27;MMS home page&#x27;, &#x27;SMART package home page&#x27;, &#x27;Science Data Center&#x27;, &#x27;FGM team home page&#x27;, &#x27;FGM team&#x27;], &#x27;LINK_TITLE&#x27;: [&#x27;at GSFC&#x27;, &#x27;at SWRI&#x27;, &#x27;at LASP&#x27;, &#x27;at UCLA&#x27;, &#x27;at IWF&#x27;], &#x27;HTTP_LINK&#x27;: [&#x27;http://mms.gsfc.nasa.gov/&#x27;, &#x27;http://mms.space.swri.edu/index.html&#x27;, &#x27;https://lasp.colorado.edu/mms/sdc&#x27;, &#x27;http://www-spc.igpp.ucla.edu/ssc/mms&#x27;, &#x27;http://www.iwf.oeaw.ac.at&#x27;], &#x27;Parents&#x27;: [&#x27;CDF&gt;mms1_dfg_brst_l1a_20170126081303_v1.7.0&#x27;, &#x27;CDF&gt;mms1_fields_hk_l1b_10e_20170126_v0.5.3&#x27;, &#x27;MMS1_DEFATT_2017025_2017026.V00&#x27;, &#x27;MMS1_DEFEPH_2017025_2017026.V01&#x27;, &#x27;CDF&gt;mms1_dfg_lorangecal_l2pre_20100101_v12.87.0&#x27;]}, &#x27;FILENAME&#x27;: &#x27;/home/janmes/Documents/PhD/PhD-Starter-Project/mms_data/mms1/fgm/brst/l2/2017/01/26/mms1_fgm_brst_l2_20170126081303_v5.87.0.cdf&#x27;}</dd><dt><span>plot_options :</span></dt><dd>{&#x27;xaxis_opt&#x27;: {&#x27;axis_label&#x27;: &#x27;Time&#x27;, &#x27;crosshair&#x27;: &#x27;X&#x27;, &#x27;x_axis_type&#x27;: &#x27;linear&#x27;}, &#x27;yaxis_opt&#x27;: {&#x27;axis_label&#x27;: &#x27;mms1_fgm_r_gse_brst_l2&#x27;, &#x27;crosshair&#x27;: &#x27;Y&#x27;, &#x27;y_axis_type&#x27;: &#x27;linear&#x27;, &#x27;y_range&#x27;: [-23911.662, 74496.17]}, &#x27;zaxis_opt&#x27;: {&#x27;axis_label&#x27;: &#x27;Z-Axis&#x27;, &#x27;crosshair&#x27;: &#x27;Z&#x27;, &#x27;z_axis_type&#x27;: &#x27;linear&#x27;}, &#x27;line_opt&#x27;: {}, &#x27;trange&#x27;: [1485418343.212, 1485418673.212], &#x27;time_bar&#x27;: [], &#x27;extras&#x27;: {&#x27;panel_size&#x27;: 1, &#x27;char_size&#x27;: 10}, &#x27;create_time&#x27;: datetime.datetime(2020, 9, 30, 11, 29, 37, 365694), &#x27;links&#x27;: {}, &#x27;spec_bins_ascending&#x27;: None, &#x27;overplots&#x27;: [], &#x27;interactive_xaxis_opt&#x27;: {}, &#x27;interactive_yaxis_opt&#x27;: {}}</dd></dl></div></li></ul></div></div>"
     },
     "metadata": {},
     "execution_count": 37
    }
   ],
   "source": [
    "pytplot.data_quants['mms1_fgm_r_gse_brst_l2']"
   ]
  },
  {
   "cell_type": "code",
   "execution_count": 43,
   "metadata": {
    "tags": []
   },
   "outputs": [
    {
     "output_type": "stream",
     "name": "stdout",
     "text": "resampling pos_x from 12 -> 31872\nDone x\nresampling pos_y from 12 -> 31872\nDone y\nresampling pos_z from 12 -> 31872\nDone z\n(31872,)\n"
    }
   ],
   "source": [
    "from scipy.signal import resample\n",
    "\n",
    "mag = pytplot.data_quants['mms1_fgm_b_gse_brst_l2'].values\n",
    "pos = pytplot.data_quants['mms1_fgm_r_gse_brst_l2'].values\n",
    "\n",
    "mag = {'x': mag[:,0], 'y': mag[:,1], 'z': mag[:,2]}\n",
    "pos = {'x': pos[:,0], 'y': pos[:,1], 'z': pos[:,2]}\n",
    "\n",
    "pos_interp = {}\n",
    "for coord, num in zip(['x','y','z'], [0,1,2]):\n",
    "    print(f'resampling pos_{coord} from {len(pos[coord])} -> {len(mag[coord])}')\n",
    "    pos_interp[coord] = resample(pos[coord], len(mag[coord]))\n",
    "    print(f'Done {coord}')"
   ]
  },
  {
   "cell_type": "code",
   "execution_count": 48,
   "metadata": {
    "tags": []
   },
   "outputs": [
    {
     "output_type": "stream",
     "name": "stderr",
     "text": "30-Sep-20 12:59:33: /home/janmes/Documents/PhD/PhD-Starter-Project/env/lib/python3.8/site-packages/ipykernel/ipkernel.py:287: DeprecationWarning: `should_run_async` will not call `transform_cell` automatically in the future. Please pass the result to `transformed_cell` argument and any exception that happen during thetransform in `preprocessing_exc_tuple` in IPython 7.17 and above.\n  and should_run_async(code)\n\n"
    }
   ],
   "source": [
    "import matplotlib\n",
    "matplotlib.use('agg')\n",
    "import matplotlib.pyplot as plt"
   ]
  },
  {
   "cell_type": "code",
   "execution_count": 56,
   "metadata": {
    "tags": []
   },
   "outputs": [
    {
     "output_type": "stream",
     "name": "stderr",
     "text": "30-Sep-20 13:08:09: /home/janmes/Documents/PhD/PhD-Starter-Project/env/lib/python3.8/site-packages/ipykernel/ipkernel.py:287: DeprecationWarning: `should_run_async` will not call `transform_cell` automatically in the future. Please pass the result to `transformed_cell` argument and any exception that happen during thetransform in `preprocessing_exc_tuple` in IPython 7.17 and above.\n  and should_run_async(code)\n\n"
    }
   ],
   "source": [
    "plt.plot(np.linspace(0, len(pos_interp['x']), num=len(pos['x'])), pos['x'])\n",
    "plt.plot(pos_interp['x'])\n",
    "plt.savefig('test.png')\n",
    "plt.cla()"
   ]
  },
  {
   "cell_type": "code",
   "execution_count": 57,
   "metadata": {
    "tags": []
   },
   "outputs": [
    {
     "output_type": "stream",
     "name": "stderr",
     "text": "30-Sep-20 13:16:21: /home/janmes/Documents/PhD/PhD-Starter-Project/env/lib/python3.8/site-packages/ipykernel/ipkernel.py:287: DeprecationWarning: `should_run_async` will not call `transform_cell` automatically in the future. Please pass the result to `transformed_cell` argument and any exception that happen during thetransform in `preprocessing_exc_tuple` in IPython 7.17 and above.\n  and should_run_async(code)\n\n"
    },
    {
     "output_type": "execute_result",
     "data": {
      "text/plain": "(31872, 4)"
     },
     "metadata": {},
     "execution_count": 57
    }
   ],
   "source": [
    "mag = pytplot.data_quants['mms1_fgm_b_gse_brst_l2'].values\n",
    "pytplot.tplot_math.tinterp('mms1_fgm_b_gse_brst_l2','mms1_fgm_r_gse_brst_l2', replace=True)\n",
    "pos = pytplot.data_quants['mms1_fgm_r_gse_brst_l2'].values\n",
    "np.shape(pos)"
   ]
  },
  {
   "cell_type": "code",
   "execution_count": null,
   "metadata": {},
   "outputs": [],
   "source": [
    "km2m = 1e3\n",
    "nT2T = 1e-9\n",
    "\n",
    "fgm_all = pyspedas.mms.fgm(trange=['2017-01-26/08:13:04', '2017-01-26/08:17:04'], probe=['1','2','3','4'] , data_rate='brst')"
   ]
  }
 ]
}